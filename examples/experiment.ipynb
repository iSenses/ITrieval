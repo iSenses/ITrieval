{
 "cells": [
  {
   "cell_type": "code",
   "execution_count": null,
   "id": "1b5055f0-c5b9-4f5f-92b5-5946924082ce",
   "metadata": {},
   "outputs": [],
   "source": [
    "import pyterrier as pt\n",
    "if not pt.started():\n",
    "  pt.init()"
   ]
  }
 ],
 "metadata": {
  "kernelspec": {
   "display_name": "xt",
   "language": "python",
   "name": "xt"
  },
  "language_info": {
   "codemirror_mode": {
    "name": "ipython",
    "version": 3
   },
   "file_extension": ".py",
   "mimetype": "text/x-python",
   "name": "python",
   "nbconvert_exporter": "python",
   "pygments_lexer": "ipython3",
   "version": "3.10.13"
  }
 },
 "nbformat": 4,
 "nbformat_minor": 5
}
